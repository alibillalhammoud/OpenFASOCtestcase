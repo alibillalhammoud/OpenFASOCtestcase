{
 "cells": [
  {
   "cell_type": "markdown",
   "id": "d8913436-b490-45ae-8043-41ff286582fb",
   "metadata": {},
   "source": [
    "# Generators\n",
    "\n",
    "## gdsfactory"
   ]
  },
  {
   "cell_type": "code",
   "execution_count": null,
   "id": "98e12428-18f4-4050-b3ba-26ac2068c5d5",
   "metadata": {},
   "outputs": [],
   "source": [
    "from openfasoc.config import PATH"
   ]
  },
  {
   "cell_type": "code",
   "execution_count": null,
   "id": "b862b8c0-e12b-444f-ba50-58783b9215ac",
   "metadata": {},
   "outputs": [],
   "source": []
  }
 ],
 "metadata": {
  "kernelspec": {
   "display_name": "Python 3 (ipykernel)",
   "language": "python",
   "name": "python3"
  },
  "language_info": {
   "codemirror_mode": {
    "name": "ipython",
    "version": 3
   },
   "file_extension": ".py",
   "mimetype": "text/x-python",
   "name": "python",
   "nbconvert_exporter": "python",
   "pygments_lexer": "ipython3",
   "version": "3.9.10"
  }
 },
 "nbformat": 4,
 "nbformat_minor": 5
}
